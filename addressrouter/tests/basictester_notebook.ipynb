{
 "cells": [
  {
   "cell_type": "code",
   "execution_count": 3,
   "metadata": {},
   "outputs": [],
   "source": [
    "from os import path\n",
    "import sys\n",
    "import os\n",
    "import numpy\n",
    "current_dir = os.path.abspath('')\n",
    "sys.path.append(path.dirname(current_dir)+\"/src\")\n",
    "from basicrouter import BasicRouter\n",
    "import maputil\n",
    "import matplotlib.pyplot as plt\n",
    "\n",
    "if path.isfile(current_dir + \"/testfiles/api.txt\"):\n",
    "    # API Key file exists\n",
    "    pass\n",
    "else:\n",
    "    # Need to make API Key file\n",
    "    f = open(current_dir + \"/testfiles/api.txt\", \"w\")\n",
    "    f.write(input(\"API Key????\\n > \"))\n",
    "    f.close()"
   ]
  },
  {
   "cell_type": "code",
   "execution_count": 4,
   "metadata": {},
   "outputs": [
    {
     "name": "stdout",
     "output_type": "stream",
     "text": [
      "3400 Westgate Dr, Durham, NC 27707, USA\n",
      "8 Wedgewood Rd, Chapel Hill, NC 27514, USA\n",
      "207 Ashley Forest Rd, Chapel Hill, NC 27514, USA\n",
      "213 W Franklin St, Chapel Hill, NC 27516, USA\n",
      "https://www.google.com/maps/dir/3400+Westgate+Dr%2C+Durham%2C+NC+27707%2C+USA/8+Wedgewood+Rd%2C+Chapel+Hill%2C+NC+27514%2C+USA/207+Ashley+Forest+Rd%2C+Chapel+Hill%2C+NC+27514%2C+USA/213+W+Franklin+St%2C+Chapel+Hill%2C+NC+27516%2C+USA/\n",
      "https://www.google.com/maps/dir/li+ming%27s+global+market/207+Ashley+Forest+Rd%2C+Chapel+Hill%2C+NC+27514/8+Wedgewood+Rd+Chapel+Hill%2C+NC+27514/213+W+Franklin+St%2C+Chapel+Hill%2C+NC+27516/\n",
      "result[1]:[(35.9661961, -78.963248), (35.9733299, -79.0508445), (35.9445544, -79.0560079), (35.9114138, -79.05900489999999)]\n",
      "result[2]:[\"li ming's global market\", '8 Wedgewood Rd Chapel Hill, NC 27514', '207 Ashley Forest Rd, Chapel Hill, NC 27514', '213 W Franklin St, Chapel Hill, NC 27516']\n",
      "result[3]:[0, 2, 1, 3]\n"
     ]
    }
   ],
   "source": [
    "testnum=2\n",
    "myRouter = BasicRouter(\n",
    "    open(current_dir + \"/testfiles/test{}.txt\".format(testnum)).read().splitlines(),\n",
    "    open(current_dir+ \"/testfiles/api.txt\").read()\n",
    ")\n",
    "result = myRouter.routeOneVehicle()\n",
    "print(\"\\n\".format(testnum).join(result[0]))\n",
    "print(maputil.genmapslink(result[0]))\n",
    "print(maputil.genmapslink(myRouter._addresses))\n",
    "\n",
    "for i in range(1,4):\n",
    "    print(\"result[{}]:{}\".format(i, result[i]))"
   ]
  },
  {
   "cell_type": "code",
   "execution_count": 5,
   "metadata": {},
   "outputs": [],
   "source": [
    "#ordered coordinates need to be a list of numbers.\n",
    "ordered_coordinates = result[1]\n",
    "\n",
    "#Need someone to help to convert \"result[1]\" into a list of numbers\n",
    "\n",
    "x_coordinates = [row[0] for row in ordered_coordinates]\n",
    "y_coordinates = [row[1] for row in ordered_coordinates]\n",
    "\n",
    "#specifying the boundaries of the plot\n",
    "x_min = min(x_coordinates) - numpy.std(x_coordinates)\n",
    "x_max = max(x_coordinates) + numpy.std(x_coordinates)\n",
    "y_min = min(y_coordinates) - numpy.std(y_coordinates)\n",
    "y_max = max(y_coordinates) + numpy.std(y_coordinates)"
   ]
  },
  {
   "cell_type": "code",
   "execution_count": 6,
   "metadata": {},
   "outputs": [
    {
     "data": {
      "image/png": "[encoded data removed]",
      "text/plain": [
       "<Figure size 432x288 with 1 Axes>"
      ]
     },
     "metadata": {
      "needs_background": "light"
     },
     "output_type": "display_data"
    }
   ],
   "source": [
    "plt.plot(x_coordinates[1:len(result[1])-1], y_coordinates[1:len(result[1])-1], 'ko', markersize=4)\n",
    "plt.plot(x_coordinates[0], y_coordinates[0], 'k>', markersize=9)\n",
    "plt.plot(x_coordinates[-1], y_coordinates[-1], 'k<', markersize=9)\n",
    "\n",
    "\n",
    "plt.plot(x_coordinates, y_coordinates, color='gray', linestyle='-')\n",
    "\n",
    "plt.show()"
   ]
  },
  {
   "cell_type": "code",
   "execution_count": null,
   "metadata": {},
   "outputs": [],
   "source": []
  }
 ],
 "metadata": {
  "kernelspec": {
   "display_name": "Python 3",
   "language": "python",
   "name": "python3"
  },
  "language_info": {
   "codemirror_mode": {
    "name": "ipython",
    "version": 3
   },
   "file_extension": ".py",
   "mimetype": "text/x-python",
   "name": "python",
   "nbconvert_exporter": "python",
   "pygments_lexer": "ipython3",
   "version": "3.7.3"
  }
 },
 "nbformat": 4,
 "nbformat_minor": 2
}
